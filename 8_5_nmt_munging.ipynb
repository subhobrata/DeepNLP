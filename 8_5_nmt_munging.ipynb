{
  "nbformat": 4,
  "nbformat_minor": 0,
  "metadata": {
    "colab": {
      "name": "8_5_nmt_munging.ipynb",
      "version": "0.3.2",
      "provenance": [],
      "include_colab_link": true
    },
    "kernelspec": {
      "name": "python3",
      "display_name": "Python 3"
    }
  },
  "cells": [
    {
      "cell_type": "markdown",
      "metadata": {
        "id": "view-in-github",
        "colab_type": "text"
      },
      "source": [
        "<a href=\"https://colab.research.google.com/github/subhobrata/DeepNLP/blob/master/8_5_nmt_munging.ipynb\" target=\"_parent\"><img src=\"https://colab.research.google.com/assets/colab-badge.svg\" alt=\"Open In Colab\"/></a>"
      ]
    },
    {
      "metadata": {
        "id": "IvkwjVhqxUcq",
        "colab_type": "code",
        "colab": {}
      },
      "cell_type": "code",
      "source": [
        "from argparse import Namespace\n",
        "from nltk.tokenize import word_tokenize\n",
        "import numpy as np\n",
        "import pandas as pd"
      ],
      "execution_count": 0,
      "outputs": []
    },
    {
      "metadata": {
        "id": "c0Qq0BhCzT5H",
        "colab_type": "code",
        "colab": {
          "base_uri": "https://localhost:8080/",
          "height": 68
        },
        "outputId": "60836902-73d4-4986-c529-f19b74eadcc9"
      },
      "cell_type": "code",
      "source": [
        "import nltk\n",
        "nltk.download('punkt')"
      ],
      "execution_count": 9,
      "outputs": [
        {
          "output_type": "stream",
          "text": [
            "[nltk_data] Downloading package punkt to /root/nltk_data...\n",
            "[nltk_data]   Unzipping tokenizers/punkt.zip.\n"
          ],
          "name": "stdout"
        },
        {
          "output_type": "execute_result",
          "data": {
            "text/plain": [
              "True"
            ]
          },
          "metadata": {
            "tags": []
          },
          "execution_count": 9
        }
      ]
    },
    {
      "metadata": {
        "id": "rlielmslxZLh",
        "colab_type": "code",
        "colab": {}
      },
      "cell_type": "code",
      "source": [
        "args = Namespace(\n",
        "    source_data_path=\"/content/gdrive/My Drive/data/nmt/eng-fra.txt\",\n",
        "    output_data_path=\"/content/gdrive/My Drive/data/nmt/simplest_eng_fra.csv\",\n",
        "    perc_train=0.7,\n",
        "    perc_val=0.15,\n",
        "    perc_test=0.15,\n",
        "    seed=1337\n",
        ")\n",
        "\n",
        "assert args.perc_test > 0 and (args.perc_test + args.perc_val + args.perc_train == 1.0)"
      ],
      "execution_count": 0,
      "outputs": []
    },
    {
      "metadata": {
        "id": "fzrA_p5wxtbg",
        "colab_type": "code",
        "colab": {
          "base_uri": "https://localhost:8080/",
          "height": 34
        },
        "outputId": "e7944abb-7b98-40c6-8a63-136b9e9808c9"
      },
      "cell_type": "code",
      "source": [
        "from google.colab import drive\n",
        "drive.mount('/content/gdrive')"
      ],
      "execution_count": 6,
      "outputs": [
        {
          "output_type": "stream",
          "text": [
            "Drive already mounted at /content/gdrive; to attempt to forcibly remount, call drive.mount(\"/content/gdrive\", force_remount=True).\n"
          ],
          "name": "stdout"
        }
      ]
    },
    {
      "metadata": {
        "id": "6-SdCjf0xnuh",
        "colab_type": "code",
        "colab": {}
      },
      "cell_type": "code",
      "source": [
        "with open(args.source_data_path) as fp:\n",
        "    lines = fp.readlines()\n",
        "    \n",
        "lines = [line.replace(\"\\n\", \"\").lower().split(\"\\t\") for line in lines]"
      ],
      "execution_count": 0,
      "outputs": []
    },
    {
      "metadata": {
        "id": "f1jPVNJtx11x",
        "colab_type": "code",
        "colab": {}
      },
      "cell_type": "code",
      "source": [
        "data = []\n",
        "for english_sentence, french_sentence in lines:\n",
        "    data.append({\"english_tokens\": word_tokenize(english_sentence, language=\"english\"),\n",
        "                 \"french_tokens\": word_tokenize(french_sentence, language=\"french\")})"
      ],
      "execution_count": 0,
      "outputs": []
    },
    {
      "metadata": {
        "id": "3b7mcLAYzbkA",
        "colab_type": "code",
        "colab": {}
      },
      "cell_type": "code",
      "source": [
        "filter_phrases = (\n",
        "    (\"i\", \"am\"), (\"i\", \"'m\"), \n",
        "    (\"he\", \"is\"), (\"he\", \"'s\"),\n",
        "    (\"she\", \"is\"), (\"she\", \"'s\"),\n",
        "    (\"you\", \"are\"), (\"you\", \"'re\"),\n",
        "    (\"we\", \"are\"), (\"we\", \"'re\"),\n",
        "    (\"they\", \"are\"), (\"they\", \"'re\")\n",
        ")"
      ],
      "execution_count": 0,
      "outputs": []
    },
    {
      "metadata": {
        "id": "5MmCIE3vzn6x",
        "colab_type": "code",
        "colab": {}
      },
      "cell_type": "code",
      "source": [
        "data_subset = {phrase: [] for phrase in filter_phrases}\n",
        "for datum in data:\n",
        "    key = tuple(datum['english_tokens'][:2])\n",
        "    if key in data_subset:\n",
        "        data_subset[key].append(datum)"
      ],
      "execution_count": 0,
      "outputs": []
    },
    {
      "metadata": {
        "id": "JcExY4i6zqh3",
        "colab_type": "code",
        "colab": {
          "base_uri": "https://localhost:8080/",
          "height": 238
        },
        "outputId": "c288b220-8569-4a99-e643-835c2bad1e45"
      },
      "cell_type": "code",
      "source": [
        "counts = {k: len(v) for k,v in data_subset.items()}\n",
        "counts, sum(counts.values())"
      ],
      "execution_count": 14,
      "outputs": [
        {
          "output_type": "execute_result",
          "data": {
            "text/plain": [
              "({('he', \"'s\"): 787,\n",
              "  ('he', 'is'): 1069,\n",
              "  ('i', \"'m\"): 4760,\n",
              "  ('i', 'am'): 805,\n",
              "  ('she', \"'s\"): 316,\n",
              "  ('she', 'is'): 504,\n",
              "  ('they', \"'re\"): 470,\n",
              "  ('they', 'are'): 194,\n",
              "  ('we', \"'re\"): 1053,\n",
              "  ('we', 'are'): 181,\n",
              "  ('you', \"'re\"): 2474,\n",
              "  ('you', 'are'): 449},\n",
              " 13062)"
            ]
          },
          "metadata": {
            "tags": []
          },
          "execution_count": 14
        }
      ]
    },
    {
      "metadata": {
        "id": "gQNZzIj8zw1I",
        "colab_type": "code",
        "colab": {}
      },
      "cell_type": "code",
      "source": [
        "np.random.seed(args.seed)\n",
        "\n",
        "dataset_stage3 = []\n",
        "for phrase, datum_list in sorted(data_subset.items()):\n",
        "    np.random.shuffle(datum_list)\n",
        "    n_train = int(len(datum_list) * args.perc_train)\n",
        "    n_val = int(len(datum_list) * args.perc_val)\n",
        "\n",
        "    for datum in datum_list[:n_train]:\n",
        "        datum['split'] = 'train'\n",
        "        \n",
        "    for datum in datum_list[n_train:n_train+n_val]:\n",
        "        datum['split'] = 'val'\n",
        "        \n",
        "    for datum in datum_list[n_train+n_val:]:\n",
        "        datum['split'] = 'test'\n",
        "    \n",
        "    dataset_stage3.extend(datum_list)"
      ],
      "execution_count": 0,
      "outputs": []
    },
    {
      "metadata": {
        "id": "RD9XaEsEzyBx",
        "colab_type": "code",
        "colab": {}
      },
      "cell_type": "code",
      "source": [
        "# here we pop and assign into the dictionary, thus modifying in place\n",
        "for datum in dataset_stage3:\n",
        "    datum['source_language'] = \" \".join(datum.pop('english_tokens'))\n",
        "    datum['target_language'] = \" \".join(datum.pop('french_tokens'))"
      ],
      "execution_count": 0,
      "outputs": []
    },
    {
      "metadata": {
        "id": "wSD1b-MTz1hT",
        "colab_type": "code",
        "colab": {}
      },
      "cell_type": "code",
      "source": [
        "nmt_df = pd.DataFrame(dataset_stage3)"
      ],
      "execution_count": 0,
      "outputs": []
    },
    {
      "metadata": {
        "id": "5eieZb_Az3t4",
        "colab_type": "code",
        "colab": {
          "base_uri": "https://localhost:8080/",
          "height": 204
        },
        "outputId": "01ddff5e-e851-403f-bfde-6892c07b19ea"
      },
      "cell_type": "code",
      "source": [
        "nmt_df.head()"
      ],
      "execution_count": 18,
      "outputs": [
        {
          "output_type": "execute_result",
          "data": {
            "text/html": [
              "<div>\n",
              "<style scoped>\n",
              "    .dataframe tbody tr th:only-of-type {\n",
              "        vertical-align: middle;\n",
              "    }\n",
              "\n",
              "    .dataframe tbody tr th {\n",
              "        vertical-align: top;\n",
              "    }\n",
              "\n",
              "    .dataframe thead th {\n",
              "        text-align: right;\n",
              "    }\n",
              "</style>\n",
              "<table border=\"1\" class=\"dataframe\">\n",
              "  <thead>\n",
              "    <tr style=\"text-align: right;\">\n",
              "      <th></th>\n",
              "      <th>source_language</th>\n",
              "      <th>split</th>\n",
              "      <th>target_language</th>\n",
              "    </tr>\n",
              "  </thead>\n",
              "  <tbody>\n",
              "    <tr>\n",
              "      <th>0</th>\n",
              "      <td>he 's the cutest boy in town .</td>\n",
              "      <td>train</td>\n",
              "      <td>c'est le garçon le plus mignon en ville .</td>\n",
              "    </tr>\n",
              "    <tr>\n",
              "      <th>1</th>\n",
              "      <td>he 's a nonsmoker .</td>\n",
              "      <td>train</td>\n",
              "      <td>il est non-fumeur .</td>\n",
              "    </tr>\n",
              "    <tr>\n",
              "      <th>2</th>\n",
              "      <td>he 's smarter than me .</td>\n",
              "      <td>train</td>\n",
              "      <td>il est plus intelligent que moi .</td>\n",
              "    </tr>\n",
              "    <tr>\n",
              "      <th>3</th>\n",
              "      <td>he 's a lovely young man .</td>\n",
              "      <td>train</td>\n",
              "      <td>c'est un adorable jeune homme .</td>\n",
              "    </tr>\n",
              "    <tr>\n",
              "      <th>4</th>\n",
              "      <td>he 's three years older than me .</td>\n",
              "      <td>train</td>\n",
              "      <td>il a trois ans de plus que moi .</td>\n",
              "    </tr>\n",
              "  </tbody>\n",
              "</table>\n",
              "</div>"
            ],
            "text/plain": [
              "                     source_language  split  \\\n",
              "0     he 's the cutest boy in town .  train   \n",
              "1                he 's a nonsmoker .  train   \n",
              "2            he 's smarter than me .  train   \n",
              "3         he 's a lovely young man .  train   \n",
              "4  he 's three years older than me .  train   \n",
              "\n",
              "                             target_language  \n",
              "0  c'est le garçon le plus mignon en ville .  \n",
              "1                        il est non-fumeur .  \n",
              "2          il est plus intelligent que moi .  \n",
              "3            c'est un adorable jeune homme .  \n",
              "4           il a trois ans de plus que moi .  "
            ]
          },
          "metadata": {
            "tags": []
          },
          "execution_count": 18
        }
      ]
    },
    {
      "metadata": {
        "id": "WMmDmGalz4kH",
        "colab_type": "code",
        "colab": {}
      },
      "cell_type": "code",
      "source": [
        "nmt_df.to_csv(args.output_data_path)"
      ],
      "execution_count": 0,
      "outputs": []
    }
  ]
}