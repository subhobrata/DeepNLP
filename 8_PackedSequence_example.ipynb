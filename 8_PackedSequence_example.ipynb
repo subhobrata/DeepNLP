{
  "nbformat": 4,
  "nbformat_minor": 0,
  "metadata": {
    "colab": {
      "name": "8_PackedSequence_example.ipynb",
      "version": "0.3.2",
      "provenance": [],
      "include_colab_link": true
    },
    "kernelspec": {
      "name": "python3",
      "display_name": "Python 3"
    }
  },
  "cells": [
    {
      "cell_type": "markdown",
      "metadata": {
        "id": "view-in-github",
        "colab_type": "text"
      },
      "source": [
        "<a href=\"https://colab.research.google.com/github/subhobrata/DeepNLP/blob/master/8_PackedSequence_example.ipynb\" target=\"_parent\"><img src=\"https://colab.research.google.com/assets/colab-badge.svg\" alt=\"Open In Colab\"/></a>"
      ]
    },
    {
      "metadata": {
        "id": "8QPQ69ZPnzQB",
        "colab_type": "code",
        "colab": {}
      },
      "cell_type": "code",
      "source": [
        "import torch\n",
        "import torch.nn as nn\n",
        "from torch.nn.utils.rnn import pack_padded_sequence, pad_packed_sequence"
      ],
      "execution_count": 0,
      "outputs": []
    },
    {
      "metadata": {
        "id": "nmVU8Ye4n58F",
        "colab_type": "code",
        "colab": {}
      },
      "cell_type": "code",
      "source": [
        "def describe(x):\n",
        "    print(\"Type: {}\".format(x.type()))\n",
        "    print(\"Shape/size: {}\".format(x.shape))\n",
        "    print(\"Values: \\n{}\".format(x))"
      ],
      "execution_count": 0,
      "outputs": []
    },
    {
      "metadata": {
        "id": "jCK87mKun99E",
        "colab_type": "code",
        "colab": {
          "base_uri": "https://localhost:8080/",
          "height": 119
        },
        "outputId": "1424ba5e-5d2d-4b1d-c6ec-d0ff8526b840"
      },
      "cell_type": "code",
      "source": [
        "abcd_padded = torch.tensor([1, 2, 3, 4], dtype=torch.float32)\n",
        "efg_padded = torch.tensor([5, 6, 7, 0], dtype=torch.float32)\n",
        "h_padded = torch.tensor([8, 0, 0, 0], dtype=torch.float32)\n",
        "\n",
        "padded_tensor = torch.stack([abcd_padded, efg_padded, h_padded])\n",
        "\n",
        "describe(padded_tensor)"
      ],
      "execution_count": 3,
      "outputs": [
        {
          "output_type": "stream",
          "text": [
            "Type: torch.FloatTensor\n",
            "Shape/size: torch.Size([3, 4])\n",
            "Values: \n",
            "tensor([[1., 2., 3., 4.],\n",
            "        [5., 6., 7., 0.],\n",
            "        [8., 0., 0., 0.]])\n"
          ],
          "name": "stdout"
        }
      ]
    },
    {
      "metadata": {
        "id": "6euYdnZjn-oj",
        "colab_type": "code",
        "colab": {
          "base_uri": "https://localhost:8080/",
          "height": 34
        },
        "outputId": "6f4d13c6-56d7-448b-ecf3-314dfd40cefd"
      },
      "cell_type": "code",
      "source": [
        "lengths = [4, 3, 1]\n",
        "packed_tensor = pack_padded_sequence(padded_tensor, lengths, \n",
        "                                     batch_first=True)\n",
        "packed_tensor"
      ],
      "execution_count": 4,
      "outputs": [
        {
          "output_type": "execute_result",
          "data": {
            "text/plain": [
              "PackedSequence(data=tensor([1., 5., 8., 2., 6., 3., 7., 4.]), batch_sizes=tensor([3, 2, 2, 1]))"
            ]
          },
          "metadata": {
            "tags": []
          },
          "execution_count": 4
        }
      ]
    },
    {
      "metadata": {
        "id": "12ISeLOpoBJe",
        "colab_type": "code",
        "colab": {
          "base_uri": "https://localhost:8080/",
          "height": 187
        },
        "outputId": "089465d8-3abf-4056-e133-b154050945f7"
      },
      "cell_type": "code",
      "source": [
        "unpacked_tensor, unpacked_lengths = pad_packed_sequence(packed_tensor, batch_first=True)\n",
        "describe(unpacked_tensor)\n",
        "describe(unpacked_lengths)"
      ],
      "execution_count": 5,
      "outputs": [
        {
          "output_type": "stream",
          "text": [
            "Type: torch.FloatTensor\n",
            "Shape/size: torch.Size([3, 4])\n",
            "Values: \n",
            "tensor([[1., 2., 3., 4.],\n",
            "        [5., 6., 7., 0.],\n",
            "        [8., 0., 0., 0.]])\n",
            "Type: torch.LongTensor\n",
            "Shape/size: torch.Size([3])\n",
            "Values: \n",
            "tensor([4, 3, 1])\n"
          ],
          "name": "stdout"
        }
      ]
    }
  ]
}